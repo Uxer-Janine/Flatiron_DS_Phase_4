{
 "cells": [
  {
   "cell_type": "markdown",
   "metadata": {
    "toc": true
   },
   "source": [
    "<h1>Table of Contents<span class=\"tocSkip\"></span></h1>\n",
    "<div class=\"toc\"><ul class=\"toc-item\"><li><span><a href=\"#Short-Answer-Questions\" data-toc-modified-id=\"Short-Answer-Questions-1\"><span class=\"toc-item-num\">1&nbsp;&nbsp;</span>Short Answer Questions</a></span></li><li><span><a href=\"#Part-1:-KNN-+-Pipelines-[Suggested-time:-20-minutes]\" data-toc-modified-id=\"Part-1:-KNN-+-Pipelines-[Suggested-time:-20-minutes]-2\"><span class=\"toc-item-num\">2&nbsp;&nbsp;</span>Part 1: KNN + Pipelines [Suggested time: 20 minutes]</a></span><ul class=\"toc-item\"><li><span><a href=\"#1.1)-Short-Answer:-What-fact-about-the-KNN-algorithm-makes-it-necessary-to-standard-scale-the-features?-Explain.\" data-toc-modified-id=\"1.1)-Short-Answer:-What-fact-about-the-KNN-algorithm-makes-it-necessary-to-standard-scale-the-features?-Explain.-2.1\"><span class=\"toc-item-num\">2.1&nbsp;&nbsp;</span>1.1) Short Answer: What fact about the KNN algorithm makes it necessary to standard scale the features? Explain.</a></span></li><li><span><a href=\"#1.2)-Short-Answer:-We'll-be-setting-up-a-Pipeline-to-do-the-imputation,-scaling,-and-then-passing-the-data-on-to-the-KNN-model.-What-problem-can-pipelines-help-avoid-during-cross-validation?\" data-toc-modified-id=\"1.2)-Short-Answer:-We'll-be-setting-up-a-Pipeline-to-do-the-imputation,-scaling,-and-then-passing-the-data-on-to-the-KNN-model.-What-problem-can-pipelines-help-avoid-during-cross-validation?-2.2\"><span class=\"toc-item-num\">2.2&nbsp;&nbsp;</span>1.2) Short Answer: We'll be setting up a Pipeline to do the imputation, scaling, and then passing the data on to the KNN model. What problem can pipelines help avoid during cross-validation?</a></span></li><li><span><a href=\"#1.3)-Conduct-a-70-30-train-test-split.-Use-a-random_state-of-42-for-the-train_test_split.-Save-the-train-and-test-set-features-to-X_train,-X_test-respectively.-Save-the-train-and-test-set-labels-to-y_train,-y_test-respectively.\" data-toc-modified-id=\"1.3)-Conduct-a-70-30-train-test-split.-Use-a-random_state-of-42-for-the-train_test_split.-Save-the-train-and-test-set-features-to-X_train,-X_test-respectively.-Save-the-train-and-test-set-labels-to-y_train,-y_test-respectively.-2.3\"><span class=\"toc-item-num\">2.3&nbsp;&nbsp;</span>1.3) Conduct a 70-30 train-test split. Use a <code>random_state</code> of 42 for the train_test_split. Save the train and test set features to X_train, X_test respectively. Save the train and test set labels to y_train, y_test respectively.</a></span></li><li><span><a href=\"#1.4)-Train/fit-the-pipeline-and-evaluate-accuracy-on-the-test-set.-Save-your-predicted-values-on-the-test-set-to-y_pred.-Save-your-computed-test-accuracy-score-to-the-variable-test_acc.\" data-toc-modified-id=\"1.4)-Train/fit-the-pipeline-and-evaluate-accuracy-on-the-test-set.-Save-your-predicted-values-on-the-test-set-to-y_pred.-Save-your-computed-test-accuracy-score-to-the-variable-test_acc.-2.4\"><span class=\"toc-item-num\">2.4&nbsp;&nbsp;</span>1.4) Train/fit the pipeline and evaluate accuracy on the test set. Save your predicted values on the test set to <code>y_pred</code>. Save your computed test accuracy score to the variable <code>test_acc</code>.</a></span></li><li><span><a href=\"#1.5)-Create-a-GridSearchCV-on-the-pipeline-and-save-it-to-an-object-called-grid_knn:\" data-toc-modified-id=\"1.5)-Create-a-GridSearchCV-on-the-pipeline-and-save-it-to-an-object-called-grid_knn:-2.5\"><span class=\"toc-item-num\">2.5&nbsp;&nbsp;</span>1.5) Create a GridSearchCV on the pipeline and save it to an object called <code>grid_knn</code>:</a></span></li><li><span><a href=\"#1.6)-Retrain-best_pipe-(your-best-model-from-cross-validation)-on-your-entire-train-set-and-predict-on-the-true-hold-out-test-set.\" data-toc-modified-id=\"1.6)-Retrain-best_pipe-(your-best-model-from-cross-validation)-on-your-entire-train-set-and-predict-on-the-true-hold-out-test-set.-2.6\"><span class=\"toc-item-num\">2.6&nbsp;&nbsp;</span>1.6) Retrain <code>best_pipe</code> (your best model from cross validation) on your entire train set and predict on the true hold-out test set.</a></span></li></ul></li><li><span><a href=\"#Part-2:-Ensembles-&amp;-Boosting-[Suggested-time:-5-minutes]\" data-toc-modified-id=\"Part-2:-Ensembles-&amp;-Boosting-[Suggested-time:-5-minutes]-3\"><span class=\"toc-item-num\">3&nbsp;&nbsp;</span>Part 2: Ensembles &amp; Boosting [Suggested time: 5 minutes]</a></span><ul class=\"toc-item\"><li><span><a href=\"#2.1)-Short-Answer:-Identify-the-two-main-methods-of-randomization-used-in-random-forests.-How-are-these-methods-employed-in-the-random-forest-algorithm,-and-how-do-they-help-to-combat-the-high-variance-that-tends-to-characterize-decision-tree-models?\" data-toc-modified-id=\"2.1)-Short-Answer:-Identify-the-two-main-methods-of-randomization-used-in-random-forests.-How-are-these-methods-employed-in-the-random-forest-algorithm,-and-how-do-they-help-to-combat-the-high-variance-that-tends-to-characterize-decision-tree-models?-3.1\"><span class=\"toc-item-num\">3.1&nbsp;&nbsp;</span>2.1) Short Answer: Identify the two main methods of randomization used in random forests. How are these methods employed in the random forest algorithm, and how do they help to combat the high variance that tends to characterize decision-tree models?</a></span></li><li><span><a href=\"#2.2)-Short-Answer:-In-order-to-get-a-random-forest-that-generalizes-well,-it's-typically-necessary-to-tune-some-hyperparameters.-In-the-language-of-Sklearn's-implementation,-one-of-the-most-relevant-hyperparameters-is-max_depth.-Describe-this-hyperparameter-and-how-it-can-factor-into-model-performance.\" data-toc-modified-id=\"2.2)-Short-Answer:-In-order-to-get-a-random-forest-that-generalizes-well,-it's-typically-necessary-to-tune-some-hyperparameters.-In-the-language-of-Sklearn's-implementation,-one-of-the-most-relevant-hyperparameters-is-max_depth.-Describe-this-hyperparameter-and-how-it-can-factor-into-model-performance.-3.2\"><span class=\"toc-item-num\">3.2&nbsp;&nbsp;</span>2.2) Short Answer: In order to get a random forest that generalizes well, it's typically necessary to tune some hyperparameters. In the language of Sklearn's implementation, one of the most relevant hyperparameters is <code>max_depth</code>. Describe this hyperparameter and how it can factor into model performance.</a></span></li></ul></li><li><span><a href=\"#Part-3:-Natural-Language-Processing-[Suggested-time:-20-minutes]\" data-toc-modified-id=\"Part-3:-Natural-Language-Processing-[Suggested-time:-20-minutes]-4\"><span class=\"toc-item-num\">4&nbsp;&nbsp;</span>Part 3: Natural Language Processing [Suggested time: 20 minutes]</a></span><ul class=\"toc-item\"><li><span><a href=\"#3.1)-Short-Answer:-Explain-why-stop-word-removal-might-be-a-useful-preprocessing-step-prior-to-any-given-predictive-task.\" data-toc-modified-id=\"3.1)-Short-Answer:-Explain-why-stop-word-removal-might-be-a-useful-preprocessing-step-prior-to-any-given-predictive-task.-4.1\"><span class=\"toc-item-num\">4.1&nbsp;&nbsp;</span>3.1) Short Answer: Explain why stop word removal might be a useful preprocessing step prior to any given predictive task.</a></span></li><li><span><a href=\"#3.2)-Short-Answer:-Explain,-in-your-own-words,-how-the-TF-IDF-vectorizer-assigns-weights-to-features-(tokens)-in-a-given-document.-What-would-a-high-score-mean-for-a-particular-word-&amp;-document-pair.\" data-toc-modified-id=\"3.2)-Short-Answer:-Explain,-in-your-own-words,-how-the-TF-IDF-vectorizer-assigns-weights-to-features-(tokens)-in-a-given-document.-What-would-a-high-score-mean-for-a-particular-word-&amp;-document-pair.-4.2\"><span class=\"toc-item-num\">4.2&nbsp;&nbsp;</span>3.2) Short Answer: Explain, in your own words, how the TF-IDF vectorizer assigns weights to features (tokens) in a given document. What would a high score mean for a particular word &amp; document pair.</a></span></li><li><span><a href=\"#3.3)-Save-the-relevant-text-and-target-to-X_sent,-y_sent.-Use-the-preprocessed_test-column-created-above.-Train/test-split-with-a-random_state-=-42.-Use-a-70-30-train-test-split-and-save-to-the-relevant-variables-below.\" data-toc-modified-id=\"3.3)-Save-the-relevant-text-and-target-to-X_sent,-y_sent.-Use-the-preprocessed_test-column-created-above.-Train/test-split-with-a-random_state-=-42.-Use-a-70-30-train-test-split-and-save-to-the-relevant-variables-below.-4.3\"><span class=\"toc-item-num\">4.3&nbsp;&nbsp;</span>3.3) Save the relevant text and target to X_sent, y_sent. Use the <code>preprocessed_test</code> column created above. Train/test split with a random_state = 42. Use a 70-30 train-test split and save to the relevant variables below.</a></span></li><li><span><a href=\"#3.4)-Create-a-pipeline-that-TF-IDF-vectorizes-text-input-and-then-feeds-it-into-a-Multinomial-Naive-Bayes-classifier.-Ensure-that-tokens-that-are-in-less-than-1%-of-the-documents-and-in-more-than-90%-of-the-documents-are-filtered-out-by-our-pipeline.-Save-the-pipeline-as-a-variable-nlp_pipe.\" data-toc-modified-id=\"3.4)-Create-a-pipeline-that-TF-IDF-vectorizes-text-input-and-then-feeds-it-into-a-Multinomial-Naive-Bayes-classifier.-Ensure-that-tokens-that-are-in-less-than-1%-of-the-documents-and-in-more-than-90%-of-the-documents-are-filtered-out-by-our-pipeline.-Save-the-pipeline-as-a-variable-nlp_pipe.-4.4\"><span class=\"toc-item-num\">4.4&nbsp;&nbsp;</span>3.4) Create a pipeline that TF-IDF vectorizes text input and then feeds it into a Multinomial Naive Bayes classifier. Ensure that tokens that are in less than 1% of the documents and in more than 90% of the documents are filtered out by our pipeline. Save the pipeline as a variable <strong>nlp_pipe</strong>.</a></span></li><li><span><a href=\"#3.5)-Train-the-pipeline-and-then-predict-on-the-test-set.-Save-predicted-test-values-as-y_sent_pred-and-then-evaluate-the-test-accuracy-score.\" data-toc-modified-id=\"3.5)-Train-the-pipeline-and-then-predict-on-the-test-set.-Save-predicted-test-values-as-y_sent_pred-and-then-evaluate-the-test-accuracy-score.-4.5\"><span class=\"toc-item-num\">4.5&nbsp;&nbsp;</span>3.5) Train the pipeline and then predict on the test set. Save predicted test values as y_sent_pred and then evaluate the test accuracy score.</a></span></li><li><span><a href=\"#3.6)-Evaluate-a-confusion-matrix-on-the-predictions-of-the-test-set-and-save-it-to-the-variable-cfm.-Uncomment-the-confusion-matrix-display-code-to-show.\" data-toc-modified-id=\"3.6)-Evaluate-a-confusion-matrix-on-the-predictions-of-the-test-set-and-save-it-to-the-variable-cfm.-Uncomment-the-confusion-matrix-display-code-to-show.-4.6\"><span class=\"toc-item-num\">4.6&nbsp;&nbsp;</span>3.6) Evaluate a confusion matrix on the predictions of the test set and save it to the variable <strong>cfm</strong>. Uncomment the confusion matrix display code to show.</a></span></li><li><span><a href=\"#3.7)-Short-Answer:-Looking-at-the-confusion-matrix-above,-comment-on-how-well-the-model-is-generalizing-to-the-testing-data.\" data-toc-modified-id=\"3.7)-Short-Answer:-Looking-at-the-confusion-matrix-above,-comment-on-how-well-the-model-is-generalizing-to-the-testing-data.-4.7\"><span class=\"toc-item-num\">4.7&nbsp;&nbsp;</span>3.7) Short Answer: Looking at the confusion matrix above, comment on how well the model is generalizing to the testing data.</a></span></li></ul></li><li><span><a href=\"#Part-4:-Clustering-[Suggested-time:-20-minutes]\" data-toc-modified-id=\"Part-4:-Clustering-[Suggested-time:-20-minutes]-5\"><span class=\"toc-item-num\">5&nbsp;&nbsp;</span>Part 4: Clustering [Suggested time: 20 minutes]</a></span><ul class=\"toc-item\"><li><span><a href=\"#4.1)-Short-Answer:-In-the-context-of-clustering,-what-is-a-centroid?\" data-toc-modified-id=\"4.1)-Short-Answer:-In-the-context-of-clustering,-what-is-a-centroid?-5.1\"><span class=\"toc-item-num\">5.1&nbsp;&nbsp;</span>4.1) Short Answer: In the context of clustering, what is a centroid?</a></span></li><li><span><a href=\"#4.2)-Short-Answer:-KMeans-is-an-algorithm-used-for-clustering-data-that-first-randomly-intializes-$K$-centroids-and-then-use-a-two-step-iterative-process-(coordinate-descent)-to-minimize-the-inertia-cost-function-until-convergence-has-been-achieved.-What-two-steps-are-executed-during-each-K-Means-iteration?\" data-toc-modified-id=\"4.2)-Short-Answer:-KMeans-is-an-algorithm-used-for-clustering-data-that-first-randomly-intializes-$K$-centroids-and-then-use-a-two-step-iterative-process-(coordinate-descent)-to-minimize-the-inertia-cost-function-until-convergence-has-been-achieved.-What-two-steps-are-executed-during-each-K-Means-iteration?-5.2\"><span class=\"toc-item-num\">5.2&nbsp;&nbsp;</span>4.2) Short Answer: KMeans is an algorithm used for clustering data that first randomly intializes $K$ centroids and then use a two-step iterative process (coordinate descent) to minimize the inertia cost function until convergence has been achieved. What two steps are executed during each K-Means iteration?</a></span></li><li><span><a href=\"#4.3)-Fit-a-StandardScaler-to-the-data-and-then-fit-a-KMeans-clustering-model,-for-K-=-3,-to-the-scaled-data.-Use-a-random_state-of-42-for-KMeans.\" data-toc-modified-id=\"4.3)-Fit-a-StandardScaler-to-the-data-and-then-fit-a-KMeans-clustering-model,-for-K-=-3,-to-the-scaled-data.-Use-a-random_state-of-42-for-KMeans.-5.3\"><span class=\"toc-item-num\">5.3&nbsp;&nbsp;</span>4.3) Fit a <code>StandardScaler</code> to the data and then fit a KMeans clustering model, for K = 3, to the scaled data. Use a <code>random_state</code> of 42 for KMeans.</a></span></li><li><span><a href=\"#4.4)-Evaluate-cluster-assignments-for-these-datapoints.-Create-a-new-dataframe-data_scaled_df-that-includes-your-scaled-data-and-a-new-column-called-&quot;cluster_label&quot;-that-indicates-the-cluster-assignments.\" data-toc-modified-id=\"4.4)-Evaluate-cluster-assignments-for-these-datapoints.-Create-a-new-dataframe-data_scaled_df-that-includes-your-scaled-data-and-a-new-column-called-&quot;cluster_label&quot;-that-indicates-the-cluster-assignments.-5.4\"><span class=\"toc-item-num\">5.4&nbsp;&nbsp;</span>4.4) Evaluate cluster assignments for these datapoints. Create a new dataframe <code>data_scaled_df</code> that includes your scaled data and a new column called \"cluster_label\" that indicates the cluster assignments.</a></span></li><li><span><a href=\"#4.5)-Below-we-have-provided-code-to-loop-through-a-few-values-of-$k$-from-$k=3$-to-$k=9$.-We-fit-KMeans-data-for-each-value-of-$k$-and-generate-cluster-labels.-Your-job-is-to-compute-the-Silhouette-Score-for-each-value-of-$k$-and-add-it-to-the-the-km_dict-dictionary.-Use-$k$-as-your-dictionary-key-and-the-corresponding-score-as-your-value.\" data-toc-modified-id=\"4.5)-Below-we-have-provided-code-to-loop-through-a-few-values-of-$k$-from-$k=3$-to-$k=9$.-We-fit-KMeans-data-for-each-value-of-$k$-and-generate-cluster-labels.-Your-job-is-to-compute-the-Silhouette-Score-for-each-value-of-$k$-and-add-it-to-the-the-km_dict-dictionary.-Use-$k$-as-your-dictionary-key-and-the-corresponding-score-as-your-value.-5.5\"><span class=\"toc-item-num\">5.5&nbsp;&nbsp;</span>4.5) Below we have provided code to loop through a few values of $k$ from $k=3$ to $k=9$. We fit KMeans data for each value of $k$ and generate cluster labels. Your job is to compute the Silhouette Score for each value of $k$ and add it to the the <code>km_dict</code> dictionary. Use $k$ as your dictionary key and the corresponding score as your value.</a></span></li><li><span><a href=\"#4.6)-Short-Answer:-Based-on-the-above-plot,-how-many-customer-clusters-does-the-SS-metric-suggest-our-data-is-most-likely-explained-by?\" data-toc-modified-id=\"4.6)-Short-Answer:-Based-on-the-above-plot,-how-many-customer-clusters-does-the-SS-metric-suggest-our-data-is-most-likely-explained-by?-5.6\"><span class=\"toc-item-num\">5.6&nbsp;&nbsp;</span>4.6) Short Answer: Based on the above plot, how many customer clusters does the SS metric suggest our data is most likely explained by?</a></span></li></ul></li></ul></div>"
   ]
  },
  {
   "cell_type": "markdown",
   "metadata": {},
   "source": [
    "# Phase 4 Code Challenge\n",
    "This code challenge is designed to test your understanding of the Phase 1 material. It covers:\n",
    "\n",
    "- KNN & Pipelines\n",
    "- Ensemble & Boosting\n",
    "- Natural Langauge Processing\n",
    "- Clustering\n",
    "\n",
    "*Read the instructions carefully.* Your code will need to meet detailed specifications to pass automated tests.\n",
    "\n",
    "## Short Answer Questions \n",
    "\n",
    "For the short answer questions...\n",
    "\n",
    "* _Use your own words_. It is OK to refer to outside resources when crafting your response, but _do not copy text from another source_.\n",
    "\n",
    "* _Communicate clearly_. We are not grading your writing skills, but you can only receive full credit if your teacher is able to fully understand your response. \n",
    "\n",
    "* _Be concise_. You should be able to answer most short answer questions in a sentence or two. Writing unnecessarily long answers increases the risk of you being unclear or saying something incorrect."
   ]
  },
  {
   "cell_type": "code",
   "execution_count": 1,
   "metadata": {},
   "outputs": [
    {
     "name": "stderr",
     "output_type": "stream",
     "text": [
      "[nltk_data] Downloading package punkt to\n",
      "[nltk_data]     C:\\Users\\Hp\\AppData\\Roaming\\nltk_data...\n",
      "[nltk_data]   Unzipping tokenizers\\punkt.zip.\n",
      "[nltk_data] Downloading package stopwords to\n",
      "[nltk_data]     C:\\Users\\Hp\\AppData\\Roaming\\nltk_data...\n",
      "[nltk_data]   Package stopwords is already up-to-date!\n"
     ]
    }
   ],
   "source": [
    "# Run this cell without changes\n",
    "import pandas as pd\n",
    "import numpy as np\n",
    "import matplotlib.pyplot as plt\n",
    "import seaborn as sns\n",
    "\n",
    "from sklearn.pipeline import Pipeline\n",
    "from sklearn.impute import SimpleImputer\n",
    "from sklearn.preprocessing import StandardScaler\n",
    "from sklearn.neighbors import KNeighborsClassifier\n",
    "\n",
    "from sklearn.model_selection import train_test_split, GridSearchCV\n",
    "\n",
    "from sklearn.metrics import accuracy_score, confusion_matrix, ConfusionMatrixDisplay, silhouette_score\n",
    "\n",
    "import nltk\n",
    "import re\n",
    "nltk.download('punkt')\n",
    "from nltk.tokenize import word_tokenize\n",
    "nltk.download('stopwords')\n",
    "from nltk.corpus import stopwords\n",
    "from nltk.stem import SnowballStemmer\n",
    "\n",
    "from sklearn.feature_extraction.text import TfidfVectorizer\n",
    "from sklearn.naive_bayes import MultinomialNB\n",
    "\n",
    "from sklearn.cluster import KMeans"
   ]
  },
  {
   "cell_type": "markdown",
   "metadata": {},
   "source": [
    "---\n",
    "## Part 1: KNN + Pipelines [Suggested time: 20 minutes]\n",
    "---"
   ]
  },
  {
   "cell_type": "markdown",
   "metadata": {},
   "source": [
    "You are given a dataset containing various physical characteristics of the seeds of three distinct species of wheat. Your job will be to tune/train a KNN classifier that can predict the species based on the provided features.\n",
    "\n",
    "Load in the data:"
   ]
  },
  {
   "cell_type": "code",
   "execution_count": 2,
   "metadata": {
    "scrolled": true
   },
   "outputs": [
    {
     "data": {
      "text/html": [
       "<div>\n",
       "<style scoped>\n",
       "    .dataframe tbody tr th:only-of-type {\n",
       "        vertical-align: middle;\n",
       "    }\n",
       "\n",
       "    .dataframe tbody tr th {\n",
       "        vertical-align: top;\n",
       "    }\n",
       "\n",
       "    .dataframe thead th {\n",
       "        text-align: right;\n",
       "    }\n",
       "</style>\n",
       "<table border=\"1\" class=\"dataframe\">\n",
       "  <thead>\n",
       "    <tr style=\"text-align: right;\">\n",
       "      <th></th>\n",
       "      <th>Area</th>\n",
       "      <th>Perimeter</th>\n",
       "      <th>Compactness</th>\n",
       "      <th>Kernel.Length</th>\n",
       "      <th>Kernel.Width</th>\n",
       "      <th>Asymmetry.Coeff</th>\n",
       "      <th>Kernel.Groove</th>\n",
       "      <th>Type</th>\n",
       "    </tr>\n",
       "  </thead>\n",
       "  <tbody>\n",
       "    <tr>\n",
       "      <th>0</th>\n",
       "      <td>15.26</td>\n",
       "      <td>14.84</td>\n",
       "      <td>0.8710</td>\n",
       "      <td>5.763</td>\n",
       "      <td>3.312</td>\n",
       "      <td>2.221</td>\n",
       "      <td>5.220</td>\n",
       "      <td>1</td>\n",
       "    </tr>\n",
       "    <tr>\n",
       "      <th>1</th>\n",
       "      <td>14.88</td>\n",
       "      <td>14.57</td>\n",
       "      <td>0.8811</td>\n",
       "      <td>5.554</td>\n",
       "      <td>3.333</td>\n",
       "      <td>1.018</td>\n",
       "      <td>4.956</td>\n",
       "      <td>1</td>\n",
       "    </tr>\n",
       "    <tr>\n",
       "      <th>2</th>\n",
       "      <td>14.29</td>\n",
       "      <td>14.09</td>\n",
       "      <td>0.9050</td>\n",
       "      <td>5.291</td>\n",
       "      <td>3.337</td>\n",
       "      <td>2.699</td>\n",
       "      <td>4.825</td>\n",
       "      <td>1</td>\n",
       "    </tr>\n",
       "    <tr>\n",
       "      <th>3</th>\n",
       "      <td>13.84</td>\n",
       "      <td>13.94</td>\n",
       "      <td>0.8955</td>\n",
       "      <td>5.324</td>\n",
       "      <td>3.379</td>\n",
       "      <td>2.259</td>\n",
       "      <td>4.805</td>\n",
       "      <td>1</td>\n",
       "    </tr>\n",
       "    <tr>\n",
       "      <th>4</th>\n",
       "      <td>16.14</td>\n",
       "      <td>14.99</td>\n",
       "      <td>0.9034</td>\n",
       "      <td>5.658</td>\n",
       "      <td>3.562</td>\n",
       "      <td>1.355</td>\n",
       "      <td>5.175</td>\n",
       "      <td>1</td>\n",
       "    </tr>\n",
       "  </tbody>\n",
       "</table>\n",
       "</div>"
      ],
      "text/plain": [
       "    Area  Perimeter  Compactness  Kernel.Length  Kernel.Width  \\\n",
       "0  15.26      14.84       0.8710          5.763         3.312   \n",
       "1  14.88      14.57       0.8811          5.554         3.333   \n",
       "2  14.29      14.09       0.9050          5.291         3.337   \n",
       "3  13.84      13.94       0.8955          5.324         3.379   \n",
       "4  16.14      14.99       0.9034          5.658         3.562   \n",
       "\n",
       "   Asymmetry.Coeff  Kernel.Groove  Type  \n",
       "0            2.221          5.220     1  \n",
       "1            1.018          4.956     1  \n",
       "2            2.699          4.825     1  \n",
       "3            2.259          4.805     1  \n",
       "4            1.355          5.175     1  "
      ]
     },
     "execution_count": 2,
     "metadata": {},
     "output_type": "execute_result"
    }
   ],
   "source": [
    "# Run this cell without changes to load in data\n",
    "wheat_df = pd.read_csv('wheat_seeds.csv')\n",
    "wheat_df.head()"
   ]
  },
  {
   "cell_type": "markdown",
   "metadata": {},
   "source": [
    "Inspect this dataframe and its statistics:"
   ]
  },
  {
   "cell_type": "code",
   "execution_count": 3,
   "metadata": {
    "scrolled": true
   },
   "outputs": [
    {
     "name": "stdout",
     "output_type": "stream",
     "text": [
      "<class 'pandas.core.frame.DataFrame'>\n",
      "RangeIndex: 199 entries, 0 to 198\n",
      "Data columns (total 8 columns):\n",
      " #   Column           Non-Null Count  Dtype  \n",
      "---  ------           --------------  -----  \n",
      " 0   Area             199 non-null    float64\n",
      " 1   Perimeter        199 non-null    float64\n",
      " 2   Compactness      174 non-null    float64\n",
      " 3   Kernel.Length    199 non-null    float64\n",
      " 4   Kernel.Width     199 non-null    float64\n",
      " 5   Asymmetry.Coeff  199 non-null    float64\n",
      " 6   Kernel.Groove    199 non-null    float64\n",
      " 7   Type             199 non-null    int64  \n",
      "dtypes: float64(7), int64(1)\n",
      "memory usage: 12.6 KB\n"
     ]
    }
   ],
   "source": [
    "# Run this cell without changing\n",
    "wheat_df.info()"
   ]
  },
  {
   "cell_type": "code",
   "execution_count": 4,
   "metadata": {
    "scrolled": false
   },
   "outputs": [
    {
     "data": {
      "text/html": [
       "<div>\n",
       "<style scoped>\n",
       "    .dataframe tbody tr th:only-of-type {\n",
       "        vertical-align: middle;\n",
       "    }\n",
       "\n",
       "    .dataframe tbody tr th {\n",
       "        vertical-align: top;\n",
       "    }\n",
       "\n",
       "    .dataframe thead th {\n",
       "        text-align: right;\n",
       "    }\n",
       "</style>\n",
       "<table border=\"1\" class=\"dataframe\">\n",
       "  <thead>\n",
       "    <tr style=\"text-align: right;\">\n",
       "      <th></th>\n",
       "      <th>Area</th>\n",
       "      <th>Perimeter</th>\n",
       "      <th>Compactness</th>\n",
       "      <th>Kernel.Length</th>\n",
       "      <th>Kernel.Width</th>\n",
       "      <th>Asymmetry.Coeff</th>\n",
       "      <th>Kernel.Groove</th>\n",
       "      <th>Type</th>\n",
       "    </tr>\n",
       "  </thead>\n",
       "  <tbody>\n",
       "    <tr>\n",
       "      <th>count</th>\n",
       "      <td>199.000000</td>\n",
       "      <td>199.000000</td>\n",
       "      <td>174.000000</td>\n",
       "      <td>199.000000</td>\n",
       "      <td>199.000000</td>\n",
       "      <td>199.000000</td>\n",
       "      <td>199.000000</td>\n",
       "      <td>199.000000</td>\n",
       "    </tr>\n",
       "    <tr>\n",
       "      <th>mean</th>\n",
       "      <td>14.918744</td>\n",
       "      <td>14.595829</td>\n",
       "      <td>0.869909</td>\n",
       "      <td>5.643151</td>\n",
       "      <td>3.265533</td>\n",
       "      <td>3.699217</td>\n",
       "      <td>5.420653</td>\n",
       "      <td>1.994975</td>\n",
       "    </tr>\n",
       "    <tr>\n",
       "      <th>std</th>\n",
       "      <td>2.919976</td>\n",
       "      <td>1.310445</td>\n",
       "      <td>0.023447</td>\n",
       "      <td>0.443593</td>\n",
       "      <td>0.378322</td>\n",
       "      <td>1.471102</td>\n",
       "      <td>0.492718</td>\n",
       "      <td>0.813382</td>\n",
       "    </tr>\n",
       "    <tr>\n",
       "      <th>min</th>\n",
       "      <td>10.590000</td>\n",
       "      <td>12.410000</td>\n",
       "      <td>0.808100</td>\n",
       "      <td>4.899000</td>\n",
       "      <td>2.630000</td>\n",
       "      <td>0.765100</td>\n",
       "      <td>4.519000</td>\n",
       "      <td>1.000000</td>\n",
       "    </tr>\n",
       "    <tr>\n",
       "      <th>25%</th>\n",
       "      <td>12.330000</td>\n",
       "      <td>13.470000</td>\n",
       "      <td>0.856675</td>\n",
       "      <td>5.267000</td>\n",
       "      <td>2.954500</td>\n",
       "      <td>2.570000</td>\n",
       "      <td>5.046000</td>\n",
       "      <td>1.000000</td>\n",
       "    </tr>\n",
       "    <tr>\n",
       "      <th>50%</th>\n",
       "      <td>14.430000</td>\n",
       "      <td>14.370000</td>\n",
       "      <td>0.872300</td>\n",
       "      <td>5.541000</td>\n",
       "      <td>3.245000</td>\n",
       "      <td>3.631000</td>\n",
       "      <td>5.228000</td>\n",
       "      <td>2.000000</td>\n",
       "    </tr>\n",
       "    <tr>\n",
       "      <th>75%</th>\n",
       "      <td>17.455000</td>\n",
       "      <td>15.805000</td>\n",
       "      <td>0.885625</td>\n",
       "      <td>6.002000</td>\n",
       "      <td>3.564500</td>\n",
       "      <td>4.799000</td>\n",
       "      <td>5.879000</td>\n",
       "      <td>3.000000</td>\n",
       "    </tr>\n",
       "    <tr>\n",
       "      <th>max</th>\n",
       "      <td>21.180000</td>\n",
       "      <td>17.250000</td>\n",
       "      <td>0.918300</td>\n",
       "      <td>6.675000</td>\n",
       "      <td>4.033000</td>\n",
       "      <td>8.315000</td>\n",
       "      <td>6.550000</td>\n",
       "      <td>3.000000</td>\n",
       "    </tr>\n",
       "  </tbody>\n",
       "</table>\n",
       "</div>"
      ],
      "text/plain": [
       "             Area   Perimeter  Compactness  Kernel.Length  Kernel.Width  \\\n",
       "count  199.000000  199.000000   174.000000     199.000000    199.000000   \n",
       "mean    14.918744   14.595829     0.869909       5.643151      3.265533   \n",
       "std      2.919976    1.310445     0.023447       0.443593      0.378322   \n",
       "min     10.590000   12.410000     0.808100       4.899000      2.630000   \n",
       "25%     12.330000   13.470000     0.856675       5.267000      2.954500   \n",
       "50%     14.430000   14.370000     0.872300       5.541000      3.245000   \n",
       "75%     17.455000   15.805000     0.885625       6.002000      3.564500   \n",
       "max     21.180000   17.250000     0.918300       6.675000      4.033000   \n",
       "\n",
       "       Asymmetry.Coeff  Kernel.Groove        Type  \n",
       "count       199.000000     199.000000  199.000000  \n",
       "mean          3.699217       5.420653    1.994975  \n",
       "std           1.471102       0.492718    0.813382  \n",
       "min           0.765100       4.519000    1.000000  \n",
       "25%           2.570000       5.046000    1.000000  \n",
       "50%           3.631000       5.228000    2.000000  \n",
       "75%           4.799000       5.879000    3.000000  \n",
       "max           8.315000       6.550000    3.000000  "
      ]
     },
     "execution_count": 4,
     "metadata": {},
     "output_type": "execute_result"
    }
   ],
   "source": [
    "# Run this cell without changing\n",
    "wheat_df.describe()"
   ]
  },
  {
   "cell_type": "markdown",
   "metadata": {},
   "source": [
    "There are a few NaNs in the compactness column and a quick look at the summary statistics reveal that the mean and variance for some of the features are significantly different. We are going to simple impute the NaN with the mean and standard scale the features."
   ]
  },
  {
   "cell_type": "markdown",
   "metadata": {},
   "source": [
    "### 1.1) Short Answer: What fact about the KNN algorithm makes it necessary to standard scale the features? Explain."
   ]
  },
  {
   "cell_type": "markdown",
   "metadata": {},
   "source": [
    "# Your answer here\n",
    "\n",
    "`KNN is distance based algorithm and therefore affected by the scale of the variables and hence the need to bring all variables to the same scale`\n"
   ]
  },
  {
   "cell_type": "markdown",
   "metadata": {},
   "source": [
    "### 1.2) Short Answer: We'll be setting up a Pipeline to do the imputation, scaling, and then passing the data on to the KNN model. What problem can pipelines help avoid during cross-validation?"
   ]
  },
  {
   "cell_type": "markdown",
   "metadata": {},
   "source": [
    "# Your answer here\n",
    "\n",
    "`Prevents data leakage`"
   ]
  },
  {
   "cell_type": "markdown",
   "metadata": {},
   "source": [
    "Now we'll create a pipeline that performs a couple transformations before passing the data to a KNN estimator."
   ]
  },
  {
   "cell_type": "code",
   "execution_count": 5,
   "metadata": {},
   "outputs": [],
   "source": [
    "# Run this cell without changes\n",
    "steps = [('imp', SimpleImputer(strategy='mean')),\n",
    "         ('scaler', StandardScaler()),\n",
    "         ('knn', KNeighborsClassifier(n_neighbors=30))]\n",
    "pipe = Pipeline(steps) "
   ]
  },
  {
   "cell_type": "markdown",
   "metadata": {},
   "source": [
    "### 1.3) Conduct a 70-30 train-test split. Use a `random_state` of 42 for the train_test_split. Save the train and test set features to X_train, X_test respectively. Save the train and test set labels to y_train, y_test respectively."
   ]
  },
  {
   "cell_type": "code",
   "execution_count": 6,
   "metadata": {},
   "outputs": [],
   "source": [
    "# CodeGrade step1.1\n",
    "# Replace None with appropriate code\n",
    "# do the required data splitting here\n",
    "\n",
    "# Assign X and y, use all columns but y for X\n",
    "X = wheat_df.drop(columns='Type')\n",
    "y = wheat_df['Type']\n",
    "\n",
    "X_train, X_test, y_train, y_test = train_test_split(X,y,test_size=0.3,random_state=42)"
   ]
  },
  {
   "cell_type": "markdown",
   "metadata": {},
   "source": [
    "A quick perusal shows that the train set is fairly balanced. We'll thus use classification accuracy as our metric for evaluating our train/test sets."
   ]
  },
  {
   "cell_type": "code",
   "execution_count": 7,
   "metadata": {},
   "outputs": [
    {
     "data": {
      "text/plain": [
       "2    68\n",
       "1    66\n",
       "3    65\n",
       "Name: Type, dtype: int64"
      ]
     },
     "execution_count": 7,
     "metadata": {},
     "output_type": "execute_result"
    }
   ],
   "source": [
    "# Run this cell without changes\n",
    "y.value_counts()"
   ]
  },
  {
   "cell_type": "markdown",
   "metadata": {},
   "source": [
    "### 1.4) Train/fit the pipeline and evaluate accuracy on the test set. Save your predicted values on the test set to `y_pred`. Save your computed test accuracy score to the variable `test_acc`."
   ]
  },
  {
   "cell_type": "code",
   "execution_count": 8,
   "metadata": {},
   "outputs": [
    {
     "data": {
      "text/plain": [
       "0.8833333333333333"
      ]
     },
     "execution_count": 8,
     "metadata": {},
     "output_type": "execute_result"
    }
   ],
   "source": [
    "# CodeGrade step1.2\n",
    "# Replace None with appropriate code\n",
    "\n",
    "# Fit pipeline\n",
    "pipe.fit(X_train,y_train)\n",
    "\n",
    "# Test set predictions and accuracy score\n",
    "y_pred = pipe.predict(X_test)\n",
    "test_acc = pipe.score(X_test,y_test)\n",
    "test_acc"
   ]
  },
  {
   "cell_type": "markdown",
   "metadata": {},
   "source": [
    "Tuning the hyperparameters of the transformers and estimators in our pipeline can be accomplished using a grid search cross validation or a randomized search cross validation."
   ]
  },
  {
   "cell_type": "markdown",
   "metadata": {},
   "source": [
    "### 1.5) Create a GridSearchCV on the pipeline and save it to an object called `grid_knn`:\n",
    "- create a parameter grid that allows the search to tune the following:\n",
    "    - n = 1, 5, 10, 20, 30 nearest neighbors for KNN\n",
    "    - mean and mode strategies for imputation\n",
    "- perform a $k=5$ cross validation on our pipeline estimator.\n",
    "- gridsearch the pipeline using a scoring metric of accuracy\n",
    "- Extract the best model from the gridsearch and save it to a variable *best_pipe*"
   ]
  },
  {
   "cell_type": "code",
   "execution_count": 9,
   "metadata": {},
   "outputs": [],
   "source": [
    "# CodeGrade step1.3\n",
    "\n",
    "# Setup grid for search\n",
    "params = [{'knn__n_neighbors':[1,5,10,20,20],\n",
    "           'imp__strategy':['mean','most_frequent']\n",
    "           \n",
    "}]\n",
    "\n",
    "# Instanstiate grid search object\n",
    "grid_knn = GridSearchCV(estimator = pipe,param_grid = params,scoring='accuracy',cv=5)\n",
    "\n",
    "# Fit and get best model\n",
    "grid_knn.fit(X_train,y_train)\n",
    "best_pipe = grid_knn.best_params_"
   ]
  },
  {
   "cell_type": "markdown",
   "metadata": {},
   "source": [
    "The best parameters are:"
   ]
  },
  {
   "cell_type": "code",
   "execution_count": 10,
   "metadata": {
    "scrolled": true
   },
   "outputs": [
    {
     "name": "stdout",
     "output_type": "stream",
     "text": [
      "{'imp__strategy': 'mean', 'knn__n_neighbors': 5}\n"
     ]
    }
   ],
   "source": [
    "# Run this cell without changes\n",
    "print(grid_knn.best_params_)"
   ]
  },
  {
   "cell_type": "markdown",
   "metadata": {},
   "source": [
    "### 1.6) Retrain `best_pipe` (your best model from cross validation) on your entire train set and predict on the true hold-out test set. \n",
    "- Save model test predictions to a variable `y_best_pred`\n",
    "- Evaluate the model accuracy on the test set and save it to a variable `tuned_test_acc`"
   ]
  },
  {
   "cell_type": "code",
   "execution_count": 11,
   "metadata": {},
   "outputs": [
    {
     "data": {
      "text/plain": [
       "0.9166666666666666"
      ]
     },
     "execution_count": 11,
     "metadata": {},
     "output_type": "execute_result"
    }
   ],
   "source": [
    "# CodeGrade step1.4\n",
    "# Replace None with appropriate code\n",
    "\n",
    "# Refit to train\n",
    "pipe.set_params(knn__n_neighbors=5)\n",
    "pipe.set_params(imp=SimpleImputer(strategy='most_frequent'))\n",
    "pipe.fit(X_train,y_train)\n",
    "\n",
    "# Test set predictions and scores\n",
    "y_best_pred = pipe.predict(X_test)\n",
    "tuned_test_acc = pipe.score(X_test,y_test)\n",
    "tuned_test_acc"
   ]
  },
  {
   "cell_type": "markdown",
   "metadata": {},
   "source": [
    "## Part 2: Ensembles & Boosting [Suggested time: 5 minutes]"
   ]
  },
  {
   "cell_type": "markdown",
   "metadata": {},
   "source": [
    "Random forests are an ensemble tree method that aggregates the results of many randomized decision trees in order to construct a classifier/regressor that often performs better than a single decision tree. \n",
    "\n",
    "### 2.1) Short Answer: Identify the two main methods of randomization used in random forests. How are these methods employed in the random forest algorithm, and how do they help to combat the high variance that tends to characterize decision-tree models?"
   ]
  },
  {
   "cell_type": "markdown",
   "metadata": {},
   "source": [
    "# Your  answer here\n",
    "\n",
    "`1. Bagging - involves sampling the data with replacement to create different training sets for each tree therefore reduce overfitting`\n",
    "\n",
    "`2. Subspace sampling method - randomly selecting a subset of features for each tree or split.helps where too many features can lead to overfitting`"
   ]
  },
  {
   "cell_type": "markdown",
   "metadata": {},
   "source": [
    "### 2.2) Short Answer: In order to get a random forest that generalizes well, it's typically necessary to tune some hyperparameters. In the language of Sklearn's implementation, one of the most relevant hyperparameters is `max_depth`. Describe this hyperparameter and how it can factor into model performance."
   ]
  },
  {
   "cell_type": "markdown",
   "metadata": {},
   "source": [
    "# Your answer here\n",
    "\n",
    "`max_depth controls depth every tree in the random forest can grow it affects performance by preventing overfiting if the max_depth is too high and if max_depth too low will underfit and fail to capture important patterns`"
   ]
  },
  {
   "cell_type": "markdown",
   "metadata": {},
   "source": [
    "## Part 3: Natural Language Processing [Suggested time: 20 minutes]"
   ]
  },
  {
   "cell_type": "markdown",
   "metadata": {},
   "source": [
    "You have recieved a collection of Amazon Kindle book reviews. The text has been labeled with a positive (1) or negative (0) sentiment. You are tasked with training a Sentiment Analyzer off of this free text data. First, let's load in the data."
   ]
  },
  {
   "cell_type": "code",
   "execution_count": 12,
   "metadata": {
    "scrolled": true
   },
   "outputs": [
    {
     "data": {
      "text/html": [
       "<div>\n",
       "<style scoped>\n",
       "    .dataframe tbody tr th:only-of-type {\n",
       "        vertical-align: middle;\n",
       "    }\n",
       "\n",
       "    .dataframe tbody tr th {\n",
       "        vertical-align: top;\n",
       "    }\n",
       "\n",
       "    .dataframe thead th {\n",
       "        text-align: right;\n",
       "    }\n",
       "</style>\n",
       "<table border=\"1\" class=\"dataframe\">\n",
       "  <thead>\n",
       "    <tr style=\"text-align: right;\">\n",
       "      <th></th>\n",
       "      <th>reviewText</th>\n",
       "      <th>target</th>\n",
       "    </tr>\n",
       "  </thead>\n",
       "  <tbody>\n",
       "    <tr>\n",
       "      <th>0</th>\n",
       "      <td>This book was the very first bookmobile book I...</td>\n",
       "      <td>1.0</td>\n",
       "    </tr>\n",
       "    <tr>\n",
       "      <th>1</th>\n",
       "      <td>When I read the description for this book, I c...</td>\n",
       "      <td>0.0</td>\n",
       "    </tr>\n",
       "    <tr>\n",
       "      <th>2</th>\n",
       "      <td>I just had to edit this review. This book is a...</td>\n",
       "      <td>1.0</td>\n",
       "    </tr>\n",
       "    <tr>\n",
       "      <th>3</th>\n",
       "      <td>I don't normally buy 'mystery' novels because ...</td>\n",
       "      <td>1.0</td>\n",
       "    </tr>\n",
       "    <tr>\n",
       "      <th>4</th>\n",
       "      <td>This isn't the kind of book I normally read, a...</td>\n",
       "      <td>1.0</td>\n",
       "    </tr>\n",
       "  </tbody>\n",
       "</table>\n",
       "</div>"
      ],
      "text/plain": [
       "                                          reviewText  target\n",
       "0  This book was the very first bookmobile book I...     1.0\n",
       "1  When I read the description for this book, I c...     0.0\n",
       "2  I just had to edit this review. This book is a...     1.0\n",
       "3  I don't normally buy 'mystery' novels because ...     1.0\n",
       "4  This isn't the kind of book I normally read, a...     1.0"
      ]
     },
     "execution_count": 12,
     "metadata": {},
     "output_type": "execute_result"
    }
   ],
   "source": [
    "# Run this cell without changes to load in data\n",
    "sentiment_data = pd.read_csv('sentiment_analysis.csv')\n",
    "sentiment_data.head()"
   ]
  },
  {
   "cell_type": "markdown",
   "metadata": {},
   "source": [
    "One of the most important tasks before attempting to construct feature vectors and modeling is to tokenize and then normalize/preprocess the text. This can include:\n",
    "- lower casing\n",
    "- removing numerics \n",
    "- removing stopwords\n",
    "- stemming/lemmatization"
   ]
  },
  {
   "cell_type": "markdown",
   "metadata": {},
   "source": [
    "### 3.1) Short Answer: Explain why stop word removal might be a useful preprocessing step prior to any given predictive task."
   ]
  },
  {
   "cell_type": "markdown",
   "metadata": {},
   "source": [
    "# Your answer here\n",
    "\n",
    "`in order to reduce the dimensionality of dataset to only words that contain important information`"
   ]
  },
  {
   "cell_type": "markdown",
   "metadata": {},
   "source": [
    "The following function takes in the reviewText column in our sentiment_data dataframe and preprocesses the documents. Run the following cell. This may take a minute. The preprocessed text will be saved to a new column in our sentiment_data dataframe."
   ]
  },
  {
   "cell_type": "code",
   "execution_count": 13,
   "metadata": {},
   "outputs": [],
   "source": [
    "# Run this cell without changes to preprocess the text\n",
    "\n",
    "def tokenize_and_preprocess(reviews):\n",
    "    \n",
    "    stop_words = stopwords.words('english')\n",
    "    patt = re.compile(r'\\b(' + r'|'.join(stop_words) + r')\\b\\s+') \n",
    "\n",
    "    preproc_step1 = sentiment_data.reviewText.str.lower().str.replace(\n",
    "        r'[0-9]+', '',regex = True).str.replace(patt, '', regex = True)\n",
    "    \n",
    "    # tokeniz. result is a Pandas series of document represented as lists of tokens\n",
    "    preproc1_tokenized = preproc_step1.apply(word_tokenize)\n",
    "    \n",
    "    # inner function. takes in single document as token list.\n",
    "    # processes further by stemming and removing non-alphabetic characters\n",
    "    \n",
    "    def remove_punct_and_stem(doc_tokenized):\n",
    "        \n",
    "        stemmer = SnowballStemmer('english')\n",
    "        \n",
    "        filtered_stemmed_tok = [stemmer.stem(tok) for tok in doc_tokenized if tok.isalpha() ]\n",
    "        \n",
    "        return \" \".join(filtered_stemmed_tok)\n",
    "        \n",
    "    preprocessed = preproc1_tokenized.apply(remove_punct_and_stem)\n",
    "        \n",
    "    return preprocessed\n",
    "\n",
    "sentiment_data['preprocessed_text'] =tokenize_and_preprocess(sentiment_data.reviewText)"
   ]
  },
  {
   "cell_type": "markdown",
   "metadata": {},
   "source": [
    "Our text has been preprocessed and we can create a BoW matrix. You will use a TF-IDF vectorizer for this task. But before doing that:"
   ]
  },
  {
   "cell_type": "markdown",
   "metadata": {},
   "source": [
    "### 3.2) Short Answer: Explain, in your own words, how the TF-IDF vectorizer assigns weights to features (tokens) in a given document. What would a high score mean for a particular word & document pair."
   ]
  },
  {
   "cell_type": "markdown",
   "metadata": {},
   "source": [
    "# Your answer here\n",
    "\n",
    "`it reduces weight of common words that appear in many documents and emphazing the importance of words that are more unique A high score means a word is rare across the whole dataset`"
   ]
  },
  {
   "cell_type": "markdown",
   "metadata": {},
   "source": [
    "### 3.3) Save the relevant text and target to X_sent, y_sent. Use the `preprocessed_test` column created above. Train/test split with a random_state = 42. Use a 70-30 train-test split and save to the relevant variables below."
   ]
  },
  {
   "cell_type": "code",
   "execution_count": 14,
   "metadata": {},
   "outputs": [],
   "source": [
    "# CodeGrade step3.1\n",
    "# Replace None with appropriate code\n",
    "\n",
    "X_sent = sentiment_data['preprocessed_text']\n",
    "y_sent = sentiment_data['target']\n",
    "\n",
    "X_sent_train, X_sent_test, y_sent_train, y_sent_test = train_test_split(X_sent,y_sent,test_size=0.3,random_state=42)"
   ]
  },
  {
   "cell_type": "markdown",
   "metadata": {},
   "source": [
    "### 3.4) Create a pipeline that TF-IDF vectorizes text input and then feeds it into a Multinomial Naive Bayes classifier. Ensure that tokens that are in less than 1% of the documents and in more than 90% of the documents are filtered out by our pipeline. Save the pipeline as a variable **nlp_pipe**."
   ]
  },
  {
   "cell_type": "code",
   "execution_count": 15,
   "metadata": {},
   "outputs": [],
   "source": [
    "# CodeGrade step3.2\n",
    "# Replace None with appropriate code\n",
    "\n",
    "nlp_pipe = Pipeline([\n",
    "    ('tfidf',TfidfVectorizer(min_df = 0.01,max_df=0.9)), #removes rare and common words\n",
    "    ('model',MultinomialNB())\n",
    "])"
   ]
  },
  {
   "cell_type": "markdown",
   "metadata": {},
   "source": [
    "### 3.5) Train the pipeline and then predict on the test set. Save predicted test values as y_sent_pred and then evaluate the test accuracy score."
   ]
  },
  {
   "cell_type": "code",
   "execution_count": 16,
   "metadata": {},
   "outputs": [
    {
     "data": {
      "text/plain": [
       "0.8383333333333334"
      ]
     },
     "execution_count": 16,
     "metadata": {},
     "output_type": "execute_result"
    }
   ],
   "source": [
    "# CodeGrade step3.3\n",
    "# Replace None with appropriate code\n",
    "\n",
    "nlp_pipe.fit(X_sent_train,y_sent_train)\n",
    "y_sent_pred = nlp_pipe.predict(X_sent_test)\n",
    "test_acc = accuracy_score(y_sent_test, y_sent_pred)\n",
    "test_acc"
   ]
  },
  {
   "cell_type": "markdown",
   "metadata": {},
   "source": [
    "### 3.6) Evaluate a confusion matrix on the predictions of the test set and save it to the variable **cfm**. Uncomment the confusion matrix display code to show."
   ]
  },
  {
   "cell_type": "code",
   "execution_count": 17,
   "metadata": {},
   "outputs": [
    {
     "data": {
      "image/png": "[encoded data removed]",
      "text/plain": [
       "<Figure size 432x288 with 2 Axes>"
      ]
     },
     "metadata": {
      "needs_background": "light"
     },
     "output_type": "display_data"
    }
   ],
   "source": [
    "# CodeGrade step3.4\n",
    "# Replace None with appropriate code\n",
    "\n",
    "cfm = confusion_matrix(y_sent_test,y_sent_pred)\n",
    "\n",
    "ConfusionMatrixDisplay(cfm).plot();"
   ]
  },
  {
   "cell_type": "markdown",
   "metadata": {},
   "source": [
    "### 3.7) Short Answer: Looking at the confusion matrix above, comment on how well the model is generalizing to the testing data."
   ]
  },
  {
   "cell_type": "markdown",
   "metadata": {},
   "source": [
    "# Your answer here\n",
    "\n",
    "`Model rarely misses actual positives due to the low false negatives and also model struggles to classify negatives due to the many false positives Since this is a sentiment analysis task where the cost of false negative is high, our model generalizes well on the test data`"
   ]
  },
  {
   "cell_type": "markdown",
   "metadata": {},
   "source": [
    "## Part 4: Clustering [Suggested time: 20 minutes]"
   ]
  },
  {
   "cell_type": "markdown",
   "metadata": {},
   "source": [
    "### 4.1) Short Answer: In the context of clustering, what is a centroid?"
   ]
  },
  {
   "cell_type": "markdown",
   "metadata": {},
   "source": [
    "# Your answer here\n",
    "\n",
    "`arithmetic mean of all points in a cluster,serves as representative point of the cluster`"
   ]
  },
  {
   "cell_type": "markdown",
   "metadata": {},
   "source": [
    "### 4.2) Short Answer: KMeans is an algorithm used for clustering data that first randomly intializes $K$ centroids and then use a two-step iterative process (coordinate descent) to minimize the inertia cost function until convergence has been achieved. What two steps are executed during each K-Means iteration?"
   ]
  },
  {
   "cell_type": "markdown",
   "metadata": {},
   "source": [
    "# Your answer here\n",
    "\n",
    "`1. Assigning each observation to the cluster to which it is closest`\n",
    "\n",
    "`2. Recalculate the cluster centroids bases on the points assigned to each cluster`"
   ]
  },
  {
   "cell_type": "markdown",
   "metadata": {},
   "source": [
    "The following data contains age and income information from a sample of customers that frequent a new mall. The mall has also creating a spending score index based on how often and how much a given customer spends at the mall. They would like to understand whether there is any structure/grouping to the customers they have. In the following, you will use KMeans to cluster the mall's customer base and identify the number of distinct groups present."
   ]
  },
  {
   "cell_type": "code",
   "execution_count": 18,
   "metadata": {},
   "outputs": [
    {
     "data": {
      "text/html": [
       "<div>\n",
       "<style scoped>\n",
       "    .dataframe tbody tr th:only-of-type {\n",
       "        vertical-align: middle;\n",
       "    }\n",
       "\n",
       "    .dataframe tbody tr th {\n",
       "        vertical-align: top;\n",
       "    }\n",
       "\n",
       "    .dataframe thead th {\n",
       "        text-align: right;\n",
       "    }\n",
       "</style>\n",
       "<table border=\"1\" class=\"dataframe\">\n",
       "  <thead>\n",
       "    <tr style=\"text-align: right;\">\n",
       "      <th></th>\n",
       "      <th>Age</th>\n",
       "      <th>Annual_Income($)</th>\n",
       "      <th>Spending_Score</th>\n",
       "    </tr>\n",
       "    <tr>\n",
       "      <th>CustomerID</th>\n",
       "      <th></th>\n",
       "      <th></th>\n",
       "      <th></th>\n",
       "    </tr>\n",
       "  </thead>\n",
       "  <tbody>\n",
       "    <tr>\n",
       "      <th>1</th>\n",
       "      <td>19</td>\n",
       "      <td>15000</td>\n",
       "      <td>39</td>\n",
       "    </tr>\n",
       "    <tr>\n",
       "      <th>2</th>\n",
       "      <td>21</td>\n",
       "      <td>15000</td>\n",
       "      <td>81</td>\n",
       "    </tr>\n",
       "    <tr>\n",
       "      <th>3</th>\n",
       "      <td>20</td>\n",
       "      <td>16000</td>\n",
       "      <td>6</td>\n",
       "    </tr>\n",
       "    <tr>\n",
       "      <th>4</th>\n",
       "      <td>23</td>\n",
       "      <td>16000</td>\n",
       "      <td>77</td>\n",
       "    </tr>\n",
       "    <tr>\n",
       "      <th>5</th>\n",
       "      <td>31</td>\n",
       "      <td>17000</td>\n",
       "      <td>40</td>\n",
       "    </tr>\n",
       "  </tbody>\n",
       "</table>\n",
       "</div>"
      ],
      "text/plain": [
       "            Age  Annual_Income($)  Spending_Score\n",
       "CustomerID                                       \n",
       "1            19             15000              39\n",
       "2            21             15000              81\n",
       "3            20             16000               6\n",
       "4            23             16000              77\n",
       "5            31             17000              40"
      ]
     },
     "execution_count": 18,
     "metadata": {},
     "output_type": "execute_result"
    }
   ],
   "source": [
    "# Run this cell without changes to import data\n",
    "data_df = pd.read_csv('mall_clust.csv').set_index('CustomerID')\n",
    "data_df.head()"
   ]
  },
  {
   "cell_type": "code",
   "execution_count": 19,
   "metadata": {},
   "outputs": [
    {
     "name": "stdout",
     "output_type": "stream",
     "text": [
      "<class 'pandas.core.frame.DataFrame'>\n",
      "Int64Index: 200 entries, 1 to 200\n",
      "Data columns (total 3 columns):\n",
      " #   Column            Non-Null Count  Dtype\n",
      "---  ------            --------------  -----\n",
      " 0   Age               200 non-null    int64\n",
      " 1   Annual_Income($)  200 non-null    int64\n",
      " 2   Spending_Score    200 non-null    int64\n",
      "dtypes: int64(3)\n",
      "memory usage: 6.2 KB\n"
     ]
    }
   ],
   "source": [
    "# Run this cell without changes\n",
    "data_df.info()"
   ]
  },
  {
   "cell_type": "code",
   "execution_count": 20,
   "metadata": {},
   "outputs": [
    {
     "data": {
      "text/html": [
       "<div>\n",
       "<style scoped>\n",
       "    .dataframe tbody tr th:only-of-type {\n",
       "        vertical-align: middle;\n",
       "    }\n",
       "\n",
       "    .dataframe tbody tr th {\n",
       "        vertical-align: top;\n",
       "    }\n",
       "\n",
       "    .dataframe thead th {\n",
       "        text-align: right;\n",
       "    }\n",
       "</style>\n",
       "<table border=\"1\" class=\"dataframe\">\n",
       "  <thead>\n",
       "    <tr style=\"text-align: right;\">\n",
       "      <th></th>\n",
       "      <th>Age</th>\n",
       "      <th>Annual_Income($)</th>\n",
       "      <th>Spending_Score</th>\n",
       "    </tr>\n",
       "  </thead>\n",
       "  <tbody>\n",
       "    <tr>\n",
       "      <th>count</th>\n",
       "      <td>200.000000</td>\n",
       "      <td>200.000000</td>\n",
       "      <td>200.000000</td>\n",
       "    </tr>\n",
       "    <tr>\n",
       "      <th>mean</th>\n",
       "      <td>38.850000</td>\n",
       "      <td>60560.000000</td>\n",
       "      <td>50.200000</td>\n",
       "    </tr>\n",
       "    <tr>\n",
       "      <th>std</th>\n",
       "      <td>13.969007</td>\n",
       "      <td>26264.721165</td>\n",
       "      <td>25.823522</td>\n",
       "    </tr>\n",
       "    <tr>\n",
       "      <th>min</th>\n",
       "      <td>18.000000</td>\n",
       "      <td>15000.000000</td>\n",
       "      <td>1.000000</td>\n",
       "    </tr>\n",
       "    <tr>\n",
       "      <th>25%</th>\n",
       "      <td>28.750000</td>\n",
       "      <td>41500.000000</td>\n",
       "      <td>34.750000</td>\n",
       "    </tr>\n",
       "    <tr>\n",
       "      <th>50%</th>\n",
       "      <td>36.000000</td>\n",
       "      <td>61500.000000</td>\n",
       "      <td>50.000000</td>\n",
       "    </tr>\n",
       "    <tr>\n",
       "      <th>75%</th>\n",
       "      <td>49.000000</td>\n",
       "      <td>78000.000000</td>\n",
       "      <td>73.000000</td>\n",
       "    </tr>\n",
       "    <tr>\n",
       "      <th>max</th>\n",
       "      <td>70.000000</td>\n",
       "      <td>137000.000000</td>\n",
       "      <td>99.000000</td>\n",
       "    </tr>\n",
       "  </tbody>\n",
       "</table>\n",
       "</div>"
      ],
      "text/plain": [
       "              Age  Annual_Income($)  Spending_Score\n",
       "count  200.000000        200.000000      200.000000\n",
       "mean    38.850000      60560.000000       50.200000\n",
       "std     13.969007      26264.721165       25.823522\n",
       "min     18.000000      15000.000000        1.000000\n",
       "25%     28.750000      41500.000000       34.750000\n",
       "50%     36.000000      61500.000000       50.000000\n",
       "75%     49.000000      78000.000000       73.000000\n",
       "max     70.000000     137000.000000       99.000000"
      ]
     },
     "execution_count": 20,
     "metadata": {},
     "output_type": "execute_result"
    }
   ],
   "source": [
    "# Run this cell without changes\n",
    "data_df.describe()"
   ]
  },
  {
   "cell_type": "markdown",
   "metadata": {},
   "source": [
    "### 4.3) Fit a `StandardScaler` to the data and then fit a KMeans clustering model, for K = 3, to the scaled data. Use a `random_state` of 42 for KMeans."
   ]
  },
  {
   "cell_type": "code",
   "execution_count": 21,
   "metadata": {},
   "outputs": [
    {
     "name": "stderr",
     "output_type": "stream",
     "text": [
      "C:\\Users\\Hp\\anaconda3\\envs\\learn-env\\lib\\site-packages\\sklearn\\cluster\\_kmeans.py:1416: FutureWarning: The default value of `n_init` will change from 10 to 'auto' in 1.4. Set the value of `n_init` explicitly to suppress the warning\n",
      "  super()._check_params_vs_input(X, default_n_init=10)\n",
      "C:\\Users\\Hp\\anaconda3\\envs\\learn-env\\lib\\site-packages\\sklearn\\cluster\\_kmeans.py:1440: UserWarning: KMeans is known to have a memory leak on Windows with MKL, when there are less chunks than available threads. You can avoid it by setting the environment variable OMP_NUM_THREADS=1.\n",
      "  warnings.warn(\n"
     ]
    },
    {
     "data": {
      "text/html": [
       "<style>#sk-container-id-1 {color: black;}#sk-container-id-1 pre{padding: 0;}#sk-container-id-1 div.sk-toggleable {background-color: white;}#sk-container-id-1 label.sk-toggleable__label {cursor: pointer;display: block;width: 100%;margin-bottom: 0;padding: 0.3em;box-sizing: border-box;text-align: center;}#sk-container-id-1 label.sk-toggleable__label-arrow:before {content: \"▸\";float: left;margin-right: 0.25em;color: #696969;}#sk-container-id-1 label.sk-toggleable__label-arrow:hover:before {color: black;}#sk-container-id-1 div.sk-estimator:hover label.sk-toggleable__label-arrow:before {color: black;}#sk-container-id-1 div.sk-toggleable__content {max-height: 0;max-width: 0;overflow: hidden;text-align: left;background-color: #f0f8ff;}#sk-container-id-1 div.sk-toggleable__content pre {margin: 0.2em;color: black;border-radius: 0.25em;background-color: #f0f8ff;}#sk-container-id-1 input.sk-toggleable__control:checked~div.sk-toggleable__content {max-height: 200px;max-width: 100%;overflow: auto;}#sk-container-id-1 input.sk-toggleable__control:checked~label.sk-toggleable__label-arrow:before {content: \"▾\";}#sk-container-id-1 div.sk-estimator input.sk-toggleable__control:checked~label.sk-toggleable__label {background-color: #d4ebff;}#sk-container-id-1 div.sk-label input.sk-toggleable__control:checked~label.sk-toggleable__label {background-color: #d4ebff;}#sk-container-id-1 input.sk-hidden--visually {border: 0;clip: rect(1px 1px 1px 1px);clip: rect(1px, 1px, 1px, 1px);height: 1px;margin: -1px;overflow: hidden;padding: 0;position: absolute;width: 1px;}#sk-container-id-1 div.sk-estimator {font-family: monospace;background-color: #f0f8ff;border: 1px dotted black;border-radius: 0.25em;box-sizing: border-box;margin-bottom: 0.5em;}#sk-container-id-1 div.sk-estimator:hover {background-color: #d4ebff;}#sk-container-id-1 div.sk-parallel-item::after {content: \"\";width: 100%;border-bottom: 1px solid gray;flex-grow: 1;}#sk-container-id-1 div.sk-label:hover label.sk-toggleable__label {background-color: #d4ebff;}#sk-container-id-1 div.sk-serial::before {content: \"\";position: absolute;border-left: 1px solid gray;box-sizing: border-box;top: 0;bottom: 0;left: 50%;z-index: 0;}#sk-container-id-1 div.sk-serial {display: flex;flex-direction: column;align-items: center;background-color: white;padding-right: 0.2em;padding-left: 0.2em;position: relative;}#sk-container-id-1 div.sk-item {position: relative;z-index: 1;}#sk-container-id-1 div.sk-parallel {display: flex;align-items: stretch;justify-content: center;background-color: white;position: relative;}#sk-container-id-1 div.sk-item::before, #sk-container-id-1 div.sk-parallel-item::before {content: \"\";position: absolute;border-left: 1px solid gray;box-sizing: border-box;top: 0;bottom: 0;left: 50%;z-index: -1;}#sk-container-id-1 div.sk-parallel-item {display: flex;flex-direction: column;z-index: 1;position: relative;background-color: white;}#sk-container-id-1 div.sk-parallel-item:first-child::after {align-self: flex-end;width: 50%;}#sk-container-id-1 div.sk-parallel-item:last-child::after {align-self: flex-start;width: 50%;}#sk-container-id-1 div.sk-parallel-item:only-child::after {width: 0;}#sk-container-id-1 div.sk-dashed-wrapped {border: 1px dashed gray;margin: 0 0.4em 0.5em 0.4em;box-sizing: border-box;padding-bottom: 0.4em;background-color: white;}#sk-container-id-1 div.sk-label label {font-family: monospace;font-weight: bold;display: inline-block;line-height: 1.2em;}#sk-container-id-1 div.sk-label-container {text-align: center;}#sk-container-id-1 div.sk-container {/* jupyter's `normalize.less` sets `[hidden] { display: none; }` but bootstrap.min.css set `[hidden] { display: none !important; }` so we also need the `!important` here to be able to override the default hidden behavior on the sphinx rendered scikit-learn.org. See: https://github.com/scikit-learn/scikit-learn/issues/21755 */display: inline-block !important;position: relative;}#sk-container-id-1 div.sk-text-repr-fallback {display: none;}</style><div id=\"sk-container-id-1\" class=\"sk-top-container\"><div class=\"sk-text-repr-fallback\"><pre>KMeans(n_clusters=3, random_state=42)</pre><b>In a Jupyter environment, please rerun this cell to show the HTML representation or trust the notebook. <br />On GitHub, the HTML representation is unable to render, please try loading this page with nbviewer.org.</b></div><div class=\"sk-container\" hidden><div class=\"sk-item\"><div class=\"sk-estimator sk-toggleable\"><input class=\"sk-toggleable__control sk-hidden--visually\" id=\"sk-estimator-id-1\" type=\"checkbox\" checked><label for=\"sk-estimator-id-1\" class=\"sk-toggleable__label sk-toggleable__label-arrow\">KMeans</label><div class=\"sk-toggleable__content\"><pre>KMeans(n_clusters=3, random_state=42)</pre></div></div></div></div></div>"
      ],
      "text/plain": [
       "KMeans(n_clusters=3, random_state=42)"
      ]
     },
     "execution_count": 21,
     "metadata": {},
     "output_type": "execute_result"
    }
   ],
   "source": [
    "# CodeGrade step4.1\n",
    "# Replace None with appropriate code and write additional code required to fit the data\n",
    "\n",
    "# Scaling\n",
    "scaler = StandardScaler()\n",
    "data_scaled = scaler.fit_transform(data_df)\n",
    "\n",
    "\n",
    "# Kmeans\n",
    "km = KMeans(n_clusters=3,random_state=42)\n",
    "\n",
    "# Fit kmeans\n",
    "km.fit(data_scaled)"
   ]
  },
  {
   "cell_type": "markdown",
   "metadata": {},
   "source": [
    "### 4.4) Evaluate cluster assignments for these datapoints. Create a new dataframe `data_scaled_df` that includes your scaled data and a new column called \"cluster_label\" that indicates the cluster assignments.\n",
    "\n",
    "HINT: You can use `data_df.columns()` to set the appropriate column names for your scaled data!\n",
    "\n",
    "HINT: Start by putting your scaled data into a `pandas` DataFrame!"
   ]
  },
  {
   "cell_type": "code",
   "execution_count": 23,
   "metadata": {},
   "outputs": [],
   "source": [
    "# CodeGrade step4.2\n",
    "# Replace None with appropriate code\n",
    "\n",
    "# Dataframe for scaled\n",
    "data_scaled_df = pd.DataFrame(data_scaled,columns=data_df.columns)\n",
    "\n",
    "# New column\n",
    "data_scaled_df['cluster_label'] = km.predict(data_scaled)"
   ]
  },
  {
   "cell_type": "markdown",
   "metadata": {},
   "source": [
    "### 4.5) Below we have provided code to loop through a few values of $k$ from $k=3$ to $k=9$. We fit KMeans data for each value of $k$ and generate cluster labels. Your job is to compute the Silhouette Score for each value of $k$ and add it to the the `km_dict` dictionary. Use $k$ as your dictionary key and the corresponding score as your value."
   ]
  },
  {
   "cell_type": "code",
   "execution_count": 24,
   "metadata": {},
   "outputs": [
    {
     "name": "stderr",
     "output_type": "stream",
     "text": [
      "C:\\Users\\Hp\\anaconda3\\envs\\learn-env\\lib\\site-packages\\sklearn\\cluster\\_kmeans.py:1416: FutureWarning: The default value of `n_init` will change from 10 to 'auto' in 1.4. Set the value of `n_init` explicitly to suppress the warning\n",
      "  super()._check_params_vs_input(X, default_n_init=10)\n",
      "C:\\Users\\Hp\\anaconda3\\envs\\learn-env\\lib\\site-packages\\sklearn\\cluster\\_kmeans.py:1440: UserWarning: KMeans is known to have a memory leak on Windows with MKL, when there are less chunks than available threads. You can avoid it by setting the environment variable OMP_NUM_THREADS=1.\n",
      "  warnings.warn(\n",
      "C:\\Users\\Hp\\anaconda3\\envs\\learn-env\\lib\\site-packages\\sklearn\\cluster\\_kmeans.py:1416: FutureWarning: The default value of `n_init` will change from 10 to 'auto' in 1.4. Set the value of `n_init` explicitly to suppress the warning\n",
      "  super()._check_params_vs_input(X, default_n_init=10)\n",
      "C:\\Users\\Hp\\anaconda3\\envs\\learn-env\\lib\\site-packages\\sklearn\\cluster\\_kmeans.py:1440: UserWarning: KMeans is known to have a memory leak on Windows with MKL, when there are less chunks than available threads. You can avoid it by setting the environment variable OMP_NUM_THREADS=1.\n",
      "  warnings.warn(\n",
      "C:\\Users\\Hp\\anaconda3\\envs\\learn-env\\lib\\site-packages\\sklearn\\cluster\\_kmeans.py:1416: FutureWarning: The default value of `n_init` will change from 10 to 'auto' in 1.4. Set the value of `n_init` explicitly to suppress the warning\n",
      "  super()._check_params_vs_input(X, default_n_init=10)\n",
      "C:\\Users\\Hp\\anaconda3\\envs\\learn-env\\lib\\site-packages\\sklearn\\cluster\\_kmeans.py:1440: UserWarning: KMeans is known to have a memory leak on Windows with MKL, when there are less chunks than available threads. You can avoid it by setting the environment variable OMP_NUM_THREADS=1.\n",
      "  warnings.warn(\n",
      "C:\\Users\\Hp\\anaconda3\\envs\\learn-env\\lib\\site-packages\\sklearn\\cluster\\_kmeans.py:1416: FutureWarning: The default value of `n_init` will change from 10 to 'auto' in 1.4. Set the value of `n_init` explicitly to suppress the warning\n",
      "  super()._check_params_vs_input(X, default_n_init=10)\n",
      "C:\\Users\\Hp\\anaconda3\\envs\\learn-env\\lib\\site-packages\\sklearn\\cluster\\_kmeans.py:1440: UserWarning: KMeans is known to have a memory leak on Windows with MKL, when there are less chunks than available threads. You can avoid it by setting the environment variable OMP_NUM_THREADS=1.\n",
      "  warnings.warn(\n",
      "C:\\Users\\Hp\\anaconda3\\envs\\learn-env\\lib\\site-packages\\sklearn\\cluster\\_kmeans.py:1416: FutureWarning: The default value of `n_init` will change from 10 to 'auto' in 1.4. Set the value of `n_init` explicitly to suppress the warning\n",
      "  super()._check_params_vs_input(X, default_n_init=10)\n",
      "C:\\Users\\Hp\\anaconda3\\envs\\learn-env\\lib\\site-packages\\sklearn\\cluster\\_kmeans.py:1440: UserWarning: KMeans is known to have a memory leak on Windows with MKL, when there are less chunks than available threads. You can avoid it by setting the environment variable OMP_NUM_THREADS=1.\n",
      "  warnings.warn(\n",
      "C:\\Users\\Hp\\anaconda3\\envs\\learn-env\\lib\\site-packages\\sklearn\\cluster\\_kmeans.py:1416: FutureWarning: The default value of `n_init` will change from 10 to 'auto' in 1.4. Set the value of `n_init` explicitly to suppress the warning\n",
      "  super()._check_params_vs_input(X, default_n_init=10)\n",
      "C:\\Users\\Hp\\anaconda3\\envs\\learn-env\\lib\\site-packages\\sklearn\\cluster\\_kmeans.py:1440: UserWarning: KMeans is known to have a memory leak on Windows with MKL, when there are less chunks than available threads. You can avoid it by setting the environment variable OMP_NUM_THREADS=1.\n",
      "  warnings.warn(\n",
      "C:\\Users\\Hp\\anaconda3\\envs\\learn-env\\lib\\site-packages\\sklearn\\cluster\\_kmeans.py:1416: FutureWarning: The default value of `n_init` will change from 10 to 'auto' in 1.4. Set the value of `n_init` explicitly to suppress the warning\n",
      "  super()._check_params_vs_input(X, default_n_init=10)\n",
      "C:\\Users\\Hp\\anaconda3\\envs\\learn-env\\lib\\site-packages\\sklearn\\cluster\\_kmeans.py:1440: UserWarning: KMeans is known to have a memory leak on Windows with MKL, when there are less chunks than available threads. You can avoid it by setting the environment variable OMP_NUM_THREADS=1.\n",
      "  warnings.warn(\n"
     ]
    },
    {
     "data": {
      "text/plain": [
       "{3: 0.357793388710272,\n",
       " 4: 0.4039582785148566,\n",
       " 5: 0.41664341513732756,\n",
       " 6: 0.4284167762892592,\n",
       " 7: 0.417231894954916,\n",
       " 8: 0.4082067042807375,\n",
       " 9: 0.41769250624076476}"
      ]
     },
     "execution_count": 24,
     "metadata": {},
     "output_type": "execute_result"
    }
   ],
   "source": [
    "# CodeGrade step4.3\n",
    "# Replace None with appropriate code\n",
    "\n",
    "# Create empty dictionary to populate\n",
    "km_dict = {}\n",
    "\n",
    "# Loop through k values\n",
    "for k in range(3,10):\n",
    "    km = KMeans(n_clusters=k, random_state=42)\n",
    "    clust_pred = km.fit_predict(data_scaled)\n",
    "    # For each value k get a silhouette score\n",
    "    ss_metr = silhouette_score(data_scaled,clust_pred)  \n",
    "    # For each value of k assign a key:value pair to km_dict\n",
    "    km_dict[k] = ss_metr\n",
    "km_dict"
   ]
  },
  {
   "cell_type": "markdown",
   "metadata": {},
   "source": [
    "Here the dictionary you created will be converted to a pandas Series `km_series`. We'll use pandas plotting to save the Silhouette Score vs $k$ to an ax object and display the plot. "
   ]
  },
  {
   "cell_type": "code",
   "execution_count": 25,
   "metadata": {},
   "outputs": [
    {
     "data": {
      "image/png": "[encoded data removed]",
      "text/plain": [
       "<Figure size 432x288 with 1 Axes>"
      ]
     },
     "metadata": {
      "needs_background": "light"
     },
     "output_type": "display_data"
    }
   ],
   "source": [
    "# Run this cell without changes\n",
    "\n",
    "fig, ax = plt.subplots()\n",
    "\n",
    "\n",
    "km_series = pd.Series(km_dict)\n",
    "ax = km_series.plot()\n",
    "ax.set_title('Silhouette Score for k')\n",
    "ax.set_xlabel('k')\n",
    "ax.set_ylabel('SS_metric')\n",
    "\n",
    "plt.show()"
   ]
  },
  {
   "cell_type": "markdown",
   "metadata": {},
   "source": [
    "### 4.6) Short Answer: Based on the above plot, how many customer clusters does the SS metric suggest our data is most likely explained by?"
   ]
  },
  {
   "cell_type": "markdown",
   "metadata": {},
   "source": [
    "# Your answer here:\n",
    "`6 customer clusters since thats where highest silhoutte score is at`"
   ]
  }
 ],
 "metadata": {
  "kernelspec": {
   "display_name": "Python (learn-env)",
   "language": "python",
   "name": "learn-env"
  },
  "language_info": {
   "codemirror_mode": {
    "name": "ipython",
    "version": 3
   },
   "file_extension": ".py",
   "mimetype": "text/x-python",
   "name": "python",
   "nbconvert_exporter": "python",
   "pygments_lexer": "ipython3",
   "version": "3.8.5"
  },
  "toc": {
   "base_numbering": 1,
   "nav_menu": {},
   "number_sections": true,
   "sideBar": true,
   "skip_h1_title": true,
   "title_cell": "Table of Contents",
   "title_sidebar": "Contents",
   "toc_cell": true,
   "toc_position": {},
   "toc_section_display": true,
   "toc_window_display": true
  }
 },
 "nbformat": 4,
 "nbformat_minor": 2
}
